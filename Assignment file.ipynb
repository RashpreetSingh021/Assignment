{
 "cells": [
  {
   "cell_type": "code",
   "execution_count": 1,
   "id": "b689c1f9",
   "metadata": {},
   "outputs": [],
   "source": [
    "import os\n",
    "import numpy as np\n",
    "import pandas as pd\n",
    "import plotly.express as px\n",
    "import plotly.offline as pof"
   ]
  },
  {
   "cell_type": "code",
   "execution_count": 2,
   "id": "be8ab2b1",
   "metadata": {},
   "outputs": [],
   "source": [
    "df = pd.read_csv('gdp_assignment.csv')"
   ]
  },
  {
   "cell_type": "code",
   "execution_count": 3,
   "id": "8a7cdbba",
   "metadata": {},
   "outputs": [
    {
     "data": {
      "text/html": [
       "<div>\n",
       "<style scoped>\n",
       "    .dataframe tbody tr th:only-of-type {\n",
       "        vertical-align: middle;\n",
       "    }\n",
       "\n",
       "    .dataframe tbody tr th {\n",
       "        vertical-align: top;\n",
       "    }\n",
       "\n",
       "    .dataframe thead th {\n",
       "        text-align: right;\n",
       "    }\n",
       "</style>\n",
       "<table border=\"1\" class=\"dataframe\">\n",
       "  <thead>\n",
       "    <tr style=\"text-align: right;\">\n",
       "      <th></th>\n",
       "      <th>Country Name</th>\n",
       "      <th>Country Code</th>\n",
       "      <th>Year</th>\n",
       "      <th>Value</th>\n",
       "    </tr>\n",
       "  </thead>\n",
       "  <tbody>\n",
       "    <tr>\n",
       "      <th>0</th>\n",
       "      <td>Arab World</td>\n",
       "      <td>ARB</td>\n",
       "      <td>1968</td>\n",
       "      <td>2.576068e+10</td>\n",
       "    </tr>\n",
       "    <tr>\n",
       "      <th>1</th>\n",
       "      <td>Arab World</td>\n",
       "      <td>ARB</td>\n",
       "      <td>1969</td>\n",
       "      <td>2.843420e+10</td>\n",
       "    </tr>\n",
       "    <tr>\n",
       "      <th>2</th>\n",
       "      <td>Arab World</td>\n",
       "      <td>ARB</td>\n",
       "      <td>1970</td>\n",
       "      <td>3.138550e+10</td>\n",
       "    </tr>\n",
       "    <tr>\n",
       "      <th>3</th>\n",
       "      <td>Arab World</td>\n",
       "      <td>ARB</td>\n",
       "      <td>1971</td>\n",
       "      <td>3.642691e+10</td>\n",
       "    </tr>\n",
       "    <tr>\n",
       "      <th>4</th>\n",
       "      <td>Arab World</td>\n",
       "      <td>ARB</td>\n",
       "      <td>1972</td>\n",
       "      <td>4.331606e+10</td>\n",
       "    </tr>\n",
       "  </tbody>\n",
       "</table>\n",
       "</div>"
      ],
      "text/plain": [
       "  Country Name Country Code  Year         Value\n",
       "0   Arab World          ARB  1968  2.576068e+10\n",
       "1   Arab World          ARB  1969  2.843420e+10\n",
       "2   Arab World          ARB  1970  3.138550e+10\n",
       "3   Arab World          ARB  1971  3.642691e+10\n",
       "4   Arab World          ARB  1972  4.331606e+10"
      ]
     },
     "execution_count": 3,
     "metadata": {},
     "output_type": "execute_result"
    }
   ],
   "source": [
    "df.head()"
   ]
  },
  {
   "cell_type": "code",
   "execution_count": 4,
   "id": "1189dc6b",
   "metadata": {},
   "outputs": [
    {
     "data": {
      "text/html": [
       "<div>\n",
       "<style scoped>\n",
       "    .dataframe tbody tr th:only-of-type {\n",
       "        vertical-align: middle;\n",
       "    }\n",
       "\n",
       "    .dataframe tbody tr th {\n",
       "        vertical-align: top;\n",
       "    }\n",
       "\n",
       "    .dataframe thead th {\n",
       "        text-align: right;\n",
       "    }\n",
       "</style>\n",
       "<table border=\"1\" class=\"dataframe\">\n",
       "  <thead>\n",
       "    <tr style=\"text-align: right;\">\n",
       "      <th></th>\n",
       "      <th>Country Name</th>\n",
       "      <th>Country Code</th>\n",
       "      <th>Year</th>\n",
       "      <th>Value</th>\n",
       "    </tr>\n",
       "  </thead>\n",
       "  <tbody>\n",
       "    <tr>\n",
       "      <th>2249</th>\n",
       "      <td>World</td>\n",
       "      <td>WLD</td>\n",
       "      <td>1960</td>\n",
       "      <td>1.366678e+12</td>\n",
       "    </tr>\n",
       "    <tr>\n",
       "      <th>2250</th>\n",
       "      <td>World</td>\n",
       "      <td>WLD</td>\n",
       "      <td>1961</td>\n",
       "      <td>1.421788e+12</td>\n",
       "    </tr>\n",
       "    <tr>\n",
       "      <th>2251</th>\n",
       "      <td>World</td>\n",
       "      <td>WLD</td>\n",
       "      <td>1962</td>\n",
       "      <td>1.526955e+12</td>\n",
       "    </tr>\n",
       "    <tr>\n",
       "      <th>2252</th>\n",
       "      <td>World</td>\n",
       "      <td>WLD</td>\n",
       "      <td>1963</td>\n",
       "      <td>1.643752e+12</td>\n",
       "    </tr>\n",
       "    <tr>\n",
       "      <th>2253</th>\n",
       "      <td>World</td>\n",
       "      <td>WLD</td>\n",
       "      <td>1964</td>\n",
       "      <td>1.800796e+12</td>\n",
       "    </tr>\n",
       "    <tr>\n",
       "      <th>2254</th>\n",
       "      <td>World</td>\n",
       "      <td>WLD</td>\n",
       "      <td>1965</td>\n",
       "      <td>1.961780e+12</td>\n",
       "    </tr>\n",
       "    <tr>\n",
       "      <th>2255</th>\n",
       "      <td>World</td>\n",
       "      <td>WLD</td>\n",
       "      <td>1966</td>\n",
       "      <td>2.128450e+12</td>\n",
       "    </tr>\n",
       "    <tr>\n",
       "      <th>2256</th>\n",
       "      <td>World</td>\n",
       "      <td>WLD</td>\n",
       "      <td>1967</td>\n",
       "      <td>2.264600e+12</td>\n",
       "    </tr>\n",
       "    <tr>\n",
       "      <th>2257</th>\n",
       "      <td>World</td>\n",
       "      <td>WLD</td>\n",
       "      <td>1968</td>\n",
       "      <td>2.443224e+12</td>\n",
       "    </tr>\n",
       "    <tr>\n",
       "      <th>2258</th>\n",
       "      <td>World</td>\n",
       "      <td>WLD</td>\n",
       "      <td>1969</td>\n",
       "      <td>2.690798e+12</td>\n",
       "    </tr>\n",
       "    <tr>\n",
       "      <th>2259</th>\n",
       "      <td>World</td>\n",
       "      <td>WLD</td>\n",
       "      <td>1970</td>\n",
       "      <td>2.957800e+12</td>\n",
       "    </tr>\n",
       "    <tr>\n",
       "      <th>2260</th>\n",
       "      <td>World</td>\n",
       "      <td>WLD</td>\n",
       "      <td>1971</td>\n",
       "      <td>3.266907e+12</td>\n",
       "    </tr>\n",
       "    <tr>\n",
       "      <th>2261</th>\n",
       "      <td>World</td>\n",
       "      <td>WLD</td>\n",
       "      <td>1972</td>\n",
       "      <td>3.767674e+12</td>\n",
       "    </tr>\n",
       "    <tr>\n",
       "      <th>2262</th>\n",
       "      <td>World</td>\n",
       "      <td>WLD</td>\n",
       "      <td>1973</td>\n",
       "      <td>4.591346e+12</td>\n",
       "    </tr>\n",
       "    <tr>\n",
       "      <th>2263</th>\n",
       "      <td>World</td>\n",
       "      <td>WLD</td>\n",
       "      <td>1974</td>\n",
       "      <td>5.296032e+12</td>\n",
       "    </tr>\n",
       "    <tr>\n",
       "      <th>2264</th>\n",
       "      <td>World</td>\n",
       "      <td>WLD</td>\n",
       "      <td>1975</td>\n",
       "      <td>5.897205e+12</td>\n",
       "    </tr>\n",
       "    <tr>\n",
       "      <th>2265</th>\n",
       "      <td>World</td>\n",
       "      <td>WLD</td>\n",
       "      <td>1976</td>\n",
       "      <td>6.416473e+12</td>\n",
       "    </tr>\n",
       "    <tr>\n",
       "      <th>2266</th>\n",
       "      <td>World</td>\n",
       "      <td>WLD</td>\n",
       "      <td>1977</td>\n",
       "      <td>7.257627e+12</td>\n",
       "    </tr>\n",
       "    <tr>\n",
       "      <th>2267</th>\n",
       "      <td>World</td>\n",
       "      <td>WLD</td>\n",
       "      <td>1978</td>\n",
       "      <td>8.542925e+12</td>\n",
       "    </tr>\n",
       "    <tr>\n",
       "      <th>2268</th>\n",
       "      <td>World</td>\n",
       "      <td>WLD</td>\n",
       "      <td>1979</td>\n",
       "      <td>9.925897e+12</td>\n",
       "    </tr>\n",
       "    <tr>\n",
       "      <th>2269</th>\n",
       "      <td>World</td>\n",
       "      <td>WLD</td>\n",
       "      <td>1980</td>\n",
       "      <td>1.117220e+13</td>\n",
       "    </tr>\n",
       "    <tr>\n",
       "      <th>2270</th>\n",
       "      <td>World</td>\n",
       "      <td>WLD</td>\n",
       "      <td>1981</td>\n",
       "      <td>1.146435e+13</td>\n",
       "    </tr>\n",
       "    <tr>\n",
       "      <th>2271</th>\n",
       "      <td>World</td>\n",
       "      <td>WLD</td>\n",
       "      <td>1982</td>\n",
       "      <td>1.136365e+13</td>\n",
       "    </tr>\n",
       "    <tr>\n",
       "      <th>2272</th>\n",
       "      <td>World</td>\n",
       "      <td>WLD</td>\n",
       "      <td>1983</td>\n",
       "      <td>1.162371e+13</td>\n",
       "    </tr>\n",
       "    <tr>\n",
       "      <th>2273</th>\n",
       "      <td>World</td>\n",
       "      <td>WLD</td>\n",
       "      <td>1984</td>\n",
       "      <td>1.206507e+13</td>\n",
       "    </tr>\n",
       "    <tr>\n",
       "      <th>2274</th>\n",
       "      <td>World</td>\n",
       "      <td>WLD</td>\n",
       "      <td>1985</td>\n",
       "      <td>1.268915e+13</td>\n",
       "    </tr>\n",
       "    <tr>\n",
       "      <th>2275</th>\n",
       "      <td>World</td>\n",
       "      <td>WLD</td>\n",
       "      <td>1986</td>\n",
       "      <td>1.502258e+13</td>\n",
       "    </tr>\n",
       "    <tr>\n",
       "      <th>2276</th>\n",
       "      <td>World</td>\n",
       "      <td>WLD</td>\n",
       "      <td>1987</td>\n",
       "      <td>1.709169e+13</td>\n",
       "    </tr>\n",
       "    <tr>\n",
       "      <th>2277</th>\n",
       "      <td>World</td>\n",
       "      <td>WLD</td>\n",
       "      <td>1988</td>\n",
       "      <td>1.914081e+13</td>\n",
       "    </tr>\n",
       "    <tr>\n",
       "      <th>2278</th>\n",
       "      <td>World</td>\n",
       "      <td>WLD</td>\n",
       "      <td>1989</td>\n",
       "      <td>2.009283e+13</td>\n",
       "    </tr>\n",
       "    <tr>\n",
       "      <th>2279</th>\n",
       "      <td>World</td>\n",
       "      <td>WLD</td>\n",
       "      <td>1990</td>\n",
       "      <td>2.259501e+13</td>\n",
       "    </tr>\n",
       "    <tr>\n",
       "      <th>2280</th>\n",
       "      <td>World</td>\n",
       "      <td>WLD</td>\n",
       "      <td>1991</td>\n",
       "      <td>2.392763e+13</td>\n",
       "    </tr>\n",
       "    <tr>\n",
       "      <th>2281</th>\n",
       "      <td>World</td>\n",
       "      <td>WLD</td>\n",
       "      <td>1992</td>\n",
       "      <td>2.540995e+13</td>\n",
       "    </tr>\n",
       "    <tr>\n",
       "      <th>2282</th>\n",
       "      <td>World</td>\n",
       "      <td>WLD</td>\n",
       "      <td>1993</td>\n",
       "      <td>2.585904e+13</td>\n",
       "    </tr>\n",
       "    <tr>\n",
       "      <th>2283</th>\n",
       "      <td>World</td>\n",
       "      <td>WLD</td>\n",
       "      <td>1994</td>\n",
       "      <td>2.776751e+13</td>\n",
       "    </tr>\n",
       "    <tr>\n",
       "      <th>2284</th>\n",
       "      <td>World</td>\n",
       "      <td>WLD</td>\n",
       "      <td>1995</td>\n",
       "      <td>3.087259e+13</td>\n",
       "    </tr>\n",
       "    <tr>\n",
       "      <th>2285</th>\n",
       "      <td>World</td>\n",
       "      <td>WLD</td>\n",
       "      <td>1996</td>\n",
       "      <td>3.155268e+13</td>\n",
       "    </tr>\n",
       "    <tr>\n",
       "      <th>2286</th>\n",
       "      <td>World</td>\n",
       "      <td>WLD</td>\n",
       "      <td>1997</td>\n",
       "      <td>3.143539e+13</td>\n",
       "    </tr>\n",
       "    <tr>\n",
       "      <th>2287</th>\n",
       "      <td>World</td>\n",
       "      <td>WLD</td>\n",
       "      <td>1998</td>\n",
       "      <td>3.133878e+13</td>\n",
       "    </tr>\n",
       "    <tr>\n",
       "      <th>2288</th>\n",
       "      <td>World</td>\n",
       "      <td>WLD</td>\n",
       "      <td>1999</td>\n",
       "      <td>3.251083e+13</td>\n",
       "    </tr>\n",
       "    <tr>\n",
       "      <th>2289</th>\n",
       "      <td>World</td>\n",
       "      <td>WLD</td>\n",
       "      <td>2000</td>\n",
       "      <td>3.356657e+13</td>\n",
       "    </tr>\n",
       "    <tr>\n",
       "      <th>2290</th>\n",
       "      <td>World</td>\n",
       "      <td>WLD</td>\n",
       "      <td>2001</td>\n",
       "      <td>3.335455e+13</td>\n",
       "    </tr>\n",
       "    <tr>\n",
       "      <th>2291</th>\n",
       "      <td>World</td>\n",
       "      <td>WLD</td>\n",
       "      <td>2002</td>\n",
       "      <td>3.463596e+13</td>\n",
       "    </tr>\n",
       "    <tr>\n",
       "      <th>2292</th>\n",
       "      <td>World</td>\n",
       "      <td>WLD</td>\n",
       "      <td>2003</td>\n",
       "      <td>3.889406e+13</td>\n",
       "    </tr>\n",
       "    <tr>\n",
       "      <th>2293</th>\n",
       "      <td>World</td>\n",
       "      <td>WLD</td>\n",
       "      <td>2004</td>\n",
       "      <td>4.380482e+13</td>\n",
       "    </tr>\n",
       "    <tr>\n",
       "      <th>2294</th>\n",
       "      <td>World</td>\n",
       "      <td>WLD</td>\n",
       "      <td>2005</td>\n",
       "      <td>4.742889e+13</td>\n",
       "    </tr>\n",
       "    <tr>\n",
       "      <th>2295</th>\n",
       "      <td>World</td>\n",
       "      <td>WLD</td>\n",
       "      <td>2006</td>\n",
       "      <td>5.136324e+13</td>\n",
       "    </tr>\n",
       "    <tr>\n",
       "      <th>2296</th>\n",
       "      <td>World</td>\n",
       "      <td>WLD</td>\n",
       "      <td>2007</td>\n",
       "      <td>5.785897e+13</td>\n",
       "    </tr>\n",
       "    <tr>\n",
       "      <th>2297</th>\n",
       "      <td>World</td>\n",
       "      <td>WLD</td>\n",
       "      <td>2008</td>\n",
       "      <td>6.346181e+13</td>\n",
       "    </tr>\n",
       "    <tr>\n",
       "      <th>2298</th>\n",
       "      <td>World</td>\n",
       "      <td>WLD</td>\n",
       "      <td>2009</td>\n",
       "      <td>6.016835e+13</td>\n",
       "    </tr>\n",
       "    <tr>\n",
       "      <th>2299</th>\n",
       "      <td>World</td>\n",
       "      <td>WLD</td>\n",
       "      <td>2010</td>\n",
       "      <td>6.595453e+13</td>\n",
       "    </tr>\n",
       "    <tr>\n",
       "      <th>2300</th>\n",
       "      <td>World</td>\n",
       "      <td>WLD</td>\n",
       "      <td>2011</td>\n",
       "      <td>7.327986e+13</td>\n",
       "    </tr>\n",
       "    <tr>\n",
       "      <th>2301</th>\n",
       "      <td>World</td>\n",
       "      <td>WLD</td>\n",
       "      <td>2012</td>\n",
       "      <td>7.488995e+13</td>\n",
       "    </tr>\n",
       "    <tr>\n",
       "      <th>2302</th>\n",
       "      <td>World</td>\n",
       "      <td>WLD</td>\n",
       "      <td>2013</td>\n",
       "      <td>7.699086e+13</td>\n",
       "    </tr>\n",
       "    <tr>\n",
       "      <th>2303</th>\n",
       "      <td>World</td>\n",
       "      <td>WLD</td>\n",
       "      <td>2014</td>\n",
       "      <td>7.904923e+13</td>\n",
       "    </tr>\n",
       "    <tr>\n",
       "      <th>2304</th>\n",
       "      <td>World</td>\n",
       "      <td>WLD</td>\n",
       "      <td>2015</td>\n",
       "      <td>7.475775e+13</td>\n",
       "    </tr>\n",
       "    <tr>\n",
       "      <th>2305</th>\n",
       "      <td>World</td>\n",
       "      <td>WLD</td>\n",
       "      <td>2016</td>\n",
       "      <td>7.584511e+13</td>\n",
       "    </tr>\n",
       "  </tbody>\n",
       "</table>\n",
       "</div>"
      ],
      "text/plain": [
       "     Country Name Country Code  Year         Value\n",
       "2249        World          WLD  1960  1.366678e+12\n",
       "2250        World          WLD  1961  1.421788e+12\n",
       "2251        World          WLD  1962  1.526955e+12\n",
       "2252        World          WLD  1963  1.643752e+12\n",
       "2253        World          WLD  1964  1.800796e+12\n",
       "2254        World          WLD  1965  1.961780e+12\n",
       "2255        World          WLD  1966  2.128450e+12\n",
       "2256        World          WLD  1967  2.264600e+12\n",
       "2257        World          WLD  1968  2.443224e+12\n",
       "2258        World          WLD  1969  2.690798e+12\n",
       "2259        World          WLD  1970  2.957800e+12\n",
       "2260        World          WLD  1971  3.266907e+12\n",
       "2261        World          WLD  1972  3.767674e+12\n",
       "2262        World          WLD  1973  4.591346e+12\n",
       "2263        World          WLD  1974  5.296032e+12\n",
       "2264        World          WLD  1975  5.897205e+12\n",
       "2265        World          WLD  1976  6.416473e+12\n",
       "2266        World          WLD  1977  7.257627e+12\n",
       "2267        World          WLD  1978  8.542925e+12\n",
       "2268        World          WLD  1979  9.925897e+12\n",
       "2269        World          WLD  1980  1.117220e+13\n",
       "2270        World          WLD  1981  1.146435e+13\n",
       "2271        World          WLD  1982  1.136365e+13\n",
       "2272        World          WLD  1983  1.162371e+13\n",
       "2273        World          WLD  1984  1.206507e+13\n",
       "2274        World          WLD  1985  1.268915e+13\n",
       "2275        World          WLD  1986  1.502258e+13\n",
       "2276        World          WLD  1987  1.709169e+13\n",
       "2277        World          WLD  1988  1.914081e+13\n",
       "2278        World          WLD  1989  2.009283e+13\n",
       "2279        World          WLD  1990  2.259501e+13\n",
       "2280        World          WLD  1991  2.392763e+13\n",
       "2281        World          WLD  1992  2.540995e+13\n",
       "2282        World          WLD  1993  2.585904e+13\n",
       "2283        World          WLD  1994  2.776751e+13\n",
       "2284        World          WLD  1995  3.087259e+13\n",
       "2285        World          WLD  1996  3.155268e+13\n",
       "2286        World          WLD  1997  3.143539e+13\n",
       "2287        World          WLD  1998  3.133878e+13\n",
       "2288        World          WLD  1999  3.251083e+13\n",
       "2289        World          WLD  2000  3.356657e+13\n",
       "2290        World          WLD  2001  3.335455e+13\n",
       "2291        World          WLD  2002  3.463596e+13\n",
       "2292        World          WLD  2003  3.889406e+13\n",
       "2293        World          WLD  2004  4.380482e+13\n",
       "2294        World          WLD  2005  4.742889e+13\n",
       "2295        World          WLD  2006  5.136324e+13\n",
       "2296        World          WLD  2007  5.785897e+13\n",
       "2297        World          WLD  2008  6.346181e+13\n",
       "2298        World          WLD  2009  6.016835e+13\n",
       "2299        World          WLD  2010  6.595453e+13\n",
       "2300        World          WLD  2011  7.327986e+13\n",
       "2301        World          WLD  2012  7.488995e+13\n",
       "2302        World          WLD  2013  7.699086e+13\n",
       "2303        World          WLD  2014  7.904923e+13\n",
       "2304        World          WLD  2015  7.475775e+13\n",
       "2305        World          WLD  2016  7.584511e+13"
      ]
     },
     "execution_count": 4,
     "metadata": {},
     "output_type": "execute_result"
    }
   ],
   "source": [
    "df[df['Country Name'] == 'World']"
   ]
  },
  {
   "cell_type": "code",
   "execution_count": 5,
   "id": "ef4d7e9a",
   "metadata": {},
   "outputs": [
    {
     "data": {
      "text/html": [
       "<div>\n",
       "<style scoped>\n",
       "    .dataframe tbody tr th:only-of-type {\n",
       "        vertical-align: middle;\n",
       "    }\n",
       "\n",
       "    .dataframe tbody tr th {\n",
       "        vertical-align: top;\n",
       "    }\n",
       "\n",
       "    .dataframe thead th {\n",
       "        text-align: right;\n",
       "    }\n",
       "</style>\n",
       "<table border=\"1\" class=\"dataframe\">\n",
       "  <thead>\n",
       "    <tr style=\"text-align: right;\">\n",
       "      <th></th>\n",
       "      <th>Country Name</th>\n",
       "      <th>Country Code</th>\n",
       "      <th>Year</th>\n",
       "      <th>Value</th>\n",
       "    </tr>\n",
       "  </thead>\n",
       "  <tbody>\n",
       "    <tr>\n",
       "      <th>1</th>\n",
       "      <td>Arab World</td>\n",
       "      <td>ARB</td>\n",
       "      <td>1969</td>\n",
       "      <td>2.843420e+10</td>\n",
       "    </tr>\n",
       "    <tr>\n",
       "      <th>58</th>\n",
       "      <td>Caribbean small states</td>\n",
       "      <td>CSS</td>\n",
       "      <td>1969</td>\n",
       "      <td>3.563688e+09</td>\n",
       "    </tr>\n",
       "    <tr>\n",
       "      <th>142</th>\n",
       "      <td>Early-demographic dividend</td>\n",
       "      <td>EAR</td>\n",
       "      <td>1969</td>\n",
       "      <td>2.633785e+11</td>\n",
       "    </tr>\n",
       "    <tr>\n",
       "      <th>199</th>\n",
       "      <td>East Asia &amp; Pacific</td>\n",
       "      <td>EAS</td>\n",
       "      <td>1969</td>\n",
       "      <td>3.461594e+11</td>\n",
       "    </tr>\n",
       "    <tr>\n",
       "      <th>256</th>\n",
       "      <td>East Asia &amp; Pacific (excluding high income)</td>\n",
       "      <td>EAP</td>\n",
       "      <td>1969</td>\n",
       "      <td>1.142179e+11</td>\n",
       "    </tr>\n",
       "    <tr>\n",
       "      <th>...</th>\n",
       "      <td>...</td>\n",
       "      <td>...</td>\n",
       "      <td>...</td>\n",
       "      <td>...</td>\n",
       "    </tr>\n",
       "    <tr>\n",
       "      <th>11095</th>\n",
       "      <td>Uruguay</td>\n",
       "      <td>URY</td>\n",
       "      <td>1969</td>\n",
       "      <td>2.004435e+09</td>\n",
       "    </tr>\n",
       "    <tr>\n",
       "      <th>11217</th>\n",
       "      <td>Venezuela, RB</td>\n",
       "      <td>VEN</td>\n",
       "      <td>1969</td>\n",
       "      <td>1.179504e+10</td>\n",
       "    </tr>\n",
       "    <tr>\n",
       "      <th>11304</th>\n",
       "      <td>Virgin Islands (U.S.)</td>\n",
       "      <td>VIR</td>\n",
       "      <td>1969</td>\n",
       "      <td>2.113000e+08</td>\n",
       "    </tr>\n",
       "    <tr>\n",
       "      <th>11402</th>\n",
       "      <td>Zambia</td>\n",
       "      <td>ZMB</td>\n",
       "      <td>1969</td>\n",
       "      <td>1.965714e+09</td>\n",
       "    </tr>\n",
       "    <tr>\n",
       "      <th>11459</th>\n",
       "      <td>Zimbabwe</td>\n",
       "      <td>ZWE</td>\n",
       "      <td>1969</td>\n",
       "      <td>1.747999e+09</td>\n",
       "    </tr>\n",
       "  </tbody>\n",
       "</table>\n",
       "<p>152 rows × 4 columns</p>\n",
       "</div>"
      ],
      "text/plain": [
       "                                      Country Name Country Code  Year  \\\n",
       "1                                       Arab World          ARB  1969   \n",
       "58                          Caribbean small states          CSS  1969   \n",
       "142                     Early-demographic dividend          EAR  1969   \n",
       "199                            East Asia & Pacific          EAS  1969   \n",
       "256    East Asia & Pacific (excluding high income)          EAP  1969   \n",
       "...                                            ...          ...   ...   \n",
       "11095                                      Uruguay          URY  1969   \n",
       "11217                                Venezuela, RB          VEN  1969   \n",
       "11304                        Virgin Islands (U.S.)          VIR  1969   \n",
       "11402                                       Zambia          ZMB  1969   \n",
       "11459                                     Zimbabwe          ZWE  1969   \n",
       "\n",
       "              Value  \n",
       "1      2.843420e+10  \n",
       "58     3.563688e+09  \n",
       "142    2.633785e+11  \n",
       "199    3.461594e+11  \n",
       "256    1.142179e+11  \n",
       "...             ...  \n",
       "11095  2.004435e+09  \n",
       "11217  1.179504e+10  \n",
       "11304  2.113000e+08  \n",
       "11402  1.965714e+09  \n",
       "11459  1.747999e+09  \n",
       "\n",
       "[152 rows x 4 columns]"
      ]
     },
     "execution_count": 5,
     "metadata": {},
     "output_type": "execute_result"
    }
   ],
   "source": [
    "df[df['Year'] == 1969]"
   ]
  },
  {
   "cell_type": "markdown",
   "id": "504e63d4",
   "metadata": {},
   "source": [
    "# 1) How many unique Countries Data we're having in the dataset?"
   ]
  },
  {
   "cell_type": "code",
   "execution_count": 6,
   "id": "6211fb27",
   "metadata": {},
   "outputs": [
    {
     "data": {
      "text/plain": [
       "256"
      ]
     },
     "execution_count": 6,
     "metadata": {},
     "output_type": "execute_result"
    }
   ],
   "source": [
    "df['Country Name'].nunique()"
   ]
  },
  {
   "cell_type": "markdown",
   "id": "a2c9e87b",
   "metadata": {},
   "source": [
    "# 2) How many years of Data we're having for India"
   ]
  },
  {
   "cell_type": "code",
   "execution_count": 7,
   "id": "b5d67170",
   "metadata": {},
   "outputs": [
    {
     "data": {
      "text/plain": [
       "57"
      ]
     },
     "execution_count": 7,
     "metadata": {},
     "output_type": "execute_result"
    }
   ],
   "source": [
    "df[df['Country Name'] == 'India'].nunique()['Year']  # 2.(also works) df[df['Country Code'] == 'IND'].nunique()['Year']  "
   ]
  },
  {
   "cell_type": "markdown",
   "id": "cb2bb5fb",
   "metadata": {},
   "source": [
    "# 3) Whats the world GDP in 1969?"
   ]
  },
  {
   "cell_type": "code",
   "execution_count": 42,
   "id": "13c0407f",
   "metadata": {},
   "outputs": [],
   "source": [
    "l = []\n",
    "for i in range(len(df)):\n",
    "    l.append(str(df['Year'][i]) + '_' + str(df['Country Code'][i]))\n",
    "df['Year_CC'] = l"
   ]
  },
  {
   "cell_type": "code",
   "execution_count": 41,
   "id": "4be25602",
   "metadata": {},
   "outputs": [
    {
     "data": {
      "text/plain": [
       "2690797713906.75"
      ]
     },
     "execution_count": 41,
     "metadata": {},
     "output_type": "execute_result"
    }
   ],
   "source": [
    "df[df['Year_CC'] == '1969_WLD'].sum()['Value']"
   ]
  },
  {
   "cell_type": "markdown",
   "id": "163c9d0f",
   "metadata": {},
   "source": [
    "# 4) Whats the % of GDP growth of India in Year 1994 (*as compare to 1993)?"
   ]
  },
  {
   "cell_type": "code",
   "execution_count": 40,
   "id": "4a4e626f",
   "metadata": {},
   "outputs": [
    {
     "data": {
      "text/plain": [
       "17.178748210146075"
      ]
     },
     "execution_count": 40,
     "metadata": {},
     "output_type": "execute_result"
    }
   ],
   "source": [
    "l = []\n",
    "for i in range(len(df)):\n",
    "    l.append(str(df['Year'][i]) + '_' + str(df['Country Code'][i]))\n",
    "df['Year_CC'] = l    \n",
    "\n",
    "x = df[df['Year_CC'] == '1994_IND'].sum()['Value']\n",
    "y = df[df['Year_CC'] == '1993_IND'].sum()['Value']\n",
    "\n",
    "P_GDP_Growth = ((x-y)/y)*100\n",
    "\n",
    "P_GDP_Growth\n"
   ]
  },
  {
   "cell_type": "markdown",
   "id": "568b7166",
   "metadata": {},
   "source": [
    "# Task"
   ]
  },
  {
   "cell_type": "markdown",
   "id": "2b8d62a0",
   "metadata": {},
   "source": [
    "## 1) Find GDP Growth of India from 1960 - 2016"
   ]
  },
  {
   "cell_type": "code",
   "execution_count": null,
   "id": "27d2a2fa",
   "metadata": {},
   "outputs": [],
   "source": [
    "x = df[df['Year_CC'] == '2016_IND'].sum()['Value']\n",
    "y = df[df['Year_CC'] == '1960_IND'].sum()['Value']\n",
    "\n",
    "GDP_Growth = ((x-y)/y)\n",
    "\n",
    "GDP_Growth\n"
   ]
  },
  {
   "cell_type": "code",
   "execution_count": null,
   "id": "27dbc56a",
   "metadata": {},
   "outputs": [],
   "source": [
    "df.groupby('Country Name').sum()['Value']"
   ]
  },
  {
   "cell_type": "code",
   "execution_count": null,
   "id": "53bb4720",
   "metadata": {},
   "outputs": [],
   "source": [
    "df"
   ]
  },
  {
   "cell_type": "code",
   "execution_count": null,
   "id": "c1f258e9",
   "metadata": {},
   "outputs": [],
   "source": [
    "df['Country Name'].describe()"
   ]
  },
  {
   "cell_type": "code",
   "execution_count": 19,
   "id": "b371115a",
   "metadata": {},
   "outputs": [],
   "source": [
    "final_data = []\n",
    "for country in df['Country Name'].unique():\n",
    "    df_pr = df[df['Country Name'] == country]\n",
    "    data = df_pr.values\n",
    "    gdp_change = [0]\n",
    "    \n",
    "    for i in range(1,len(data)):\n",
    "        prev = data[i-1][3]\n",
    "        cur = data [i][3]\n",
    "        \n",
    "        gdp_change.append(round(((cur-prev)/prev)*100,2))\n",
    "        \n",
    "    df_pr = df_pr.assign(GDP = gdp_change)\n",
    "    final_data.append(df_pr)\n",
    "    \n",
    "        \n",
    "        \n",
    "        \n",
    "        \n",
    "    \n",
    "    \n",
    "    "
   ]
  },
  {
   "cell_type": "code",
   "execution_count": 20,
   "id": "6c3b5b30",
   "metadata": {},
   "outputs": [],
   "source": [
    "df = pd.concat(final_data , axis = 0)"
   ]
  },
  {
   "cell_type": "code",
   "execution_count": 21,
   "id": "c6a412a9",
   "metadata": {},
   "outputs": [
    {
     "data": {
      "text/html": [
       "<div>\n",
       "<style scoped>\n",
       "    .dataframe tbody tr th:only-of-type {\n",
       "        vertical-align: middle;\n",
       "    }\n",
       "\n",
       "    .dataframe tbody tr th {\n",
       "        vertical-align: top;\n",
       "    }\n",
       "\n",
       "    .dataframe thead th {\n",
       "        text-align: right;\n",
       "    }\n",
       "</style>\n",
       "<table border=\"1\" class=\"dataframe\">\n",
       "  <thead>\n",
       "    <tr style=\"text-align: right;\">\n",
       "      <th></th>\n",
       "      <th>Country Name</th>\n",
       "      <th>Country Code</th>\n",
       "      <th>Year</th>\n",
       "      <th>Value</th>\n",
       "      <th>GDP</th>\n",
       "    </tr>\n",
       "  </thead>\n",
       "  <tbody>\n",
       "    <tr>\n",
       "      <th>0</th>\n",
       "      <td>Arab World</td>\n",
       "      <td>ARB</td>\n",
       "      <td>1968</td>\n",
       "      <td>2.576068e+10</td>\n",
       "      <td>0.00</td>\n",
       "    </tr>\n",
       "    <tr>\n",
       "      <th>1</th>\n",
       "      <td>Arab World</td>\n",
       "      <td>ARB</td>\n",
       "      <td>1969</td>\n",
       "      <td>2.843420e+10</td>\n",
       "      <td>10.38</td>\n",
       "    </tr>\n",
       "    <tr>\n",
       "      <th>2</th>\n",
       "      <td>Arab World</td>\n",
       "      <td>ARB</td>\n",
       "      <td>1970</td>\n",
       "      <td>3.138550e+10</td>\n",
       "      <td>10.38</td>\n",
       "    </tr>\n",
       "    <tr>\n",
       "      <th>3</th>\n",
       "      <td>Arab World</td>\n",
       "      <td>ARB</td>\n",
       "      <td>1971</td>\n",
       "      <td>3.642691e+10</td>\n",
       "      <td>16.06</td>\n",
       "    </tr>\n",
       "    <tr>\n",
       "      <th>4</th>\n",
       "      <td>Arab World</td>\n",
       "      <td>ARB</td>\n",
       "      <td>1972</td>\n",
       "      <td>4.331606e+10</td>\n",
       "      <td>18.91</td>\n",
       "    </tr>\n",
       "  </tbody>\n",
       "</table>\n",
       "</div>"
      ],
      "text/plain": [
       "  Country Name Country Code  Year         Value    GDP\n",
       "0   Arab World          ARB  1968  2.576068e+10   0.00\n",
       "1   Arab World          ARB  1969  2.843420e+10  10.38\n",
       "2   Arab World          ARB  1970  3.138550e+10  10.38\n",
       "3   Arab World          ARB  1971  3.642691e+10  16.06\n",
       "4   Arab World          ARB  1972  4.331606e+10  18.91"
      ]
     },
     "execution_count": 21,
     "metadata": {},
     "output_type": "execute_result"
    }
   ],
   "source": [
    "df.head()"
   ]
  },
  {
   "cell_type": "code",
   "execution_count": null,
   "id": "24d89209",
   "metadata": {},
   "outputs": [],
   "source": [
    "df.groupby('Country Name').mean()['GDP'].sort_values(ascending = False)"
   ]
  },
  {
   "cell_type": "markdown",
   "id": "a1869b64",
   "metadata": {},
   "source": [
    "# Since we have incoorect data like some countries are not from min to max year..so mean is incorrect..we hv to apply more logics"
   ]
  },
  {
   "cell_type": "code",
   "execution_count": null,
   "id": "8bd237ef",
   "metadata": {},
   "outputs": [],
   "source": [
    "df[df['Country Name'] == 'Afghanistan']   # After 1981 2001 data is given"
   ]
  },
  {
   "cell_type": "code",
   "execution_count": null,
   "id": "d2af669c",
   "metadata": {},
   "outputs": [],
   "source": [
    "df.groupby('Country Name').max()['Value'].sort_values(ascending = False).head(50).plot(kind = 'bar' , figsize = (15,10))"
   ]
  },
  {
   "cell_type": "code",
   "execution_count": null,
   "id": "4220f122",
   "metadata": {},
   "outputs": [],
   "source": [
    "\n",
    "df_pr1 = df[df['Country Name'] == 'India']\n",
    "fig = px.line(df_pr1 , x ='Year' , y = 'Value' , title = 'World GDP Analysis' , range_y = [0 , 80000000000000])# also we can give range for y or x axis\n",
    "fig"
   ]
  },
  {
   "cell_type": "code",
   "execution_count": null,
   "id": "8c4ce4f6",
   "metadata": {},
   "outputs": [],
   "source": [
    "pof.plot(fig , filename = 'World GDP Analysis.html')\n"
   ]
  },
  {
   "cell_type": "markdown",
   "id": "68f91245",
   "metadata": {},
   "source": [
    "# so now automating process to save all the country's analysis part"
   ]
  },
  {
   "cell_type": "code",
   "execution_count": null,
   "id": "50b555c5",
   "metadata": {},
   "outputs": [],
   "source": [
    "os.mkdir('GDP INDIVIDUAL2')\n",
    "\n",
    "for i in df['Country Name'].unique():\n",
    "    #print(i)\n",
    "    df_pr1 = df[df['Country Name'] == i]\n",
    "    #print('yes')\n",
    "    fig = px.line(df_pr1 , x ='Year' , y = 'Value' , title = f'{i} GDP Analysis')\n",
    "    pof.plot(fig , filename = 'GDP INDIVIDUAL2/' + f'{i} GDP Analysis.html')\n",
    "\n",
    "    "
   ]
  },
  {
   "cell_type": "markdown",
   "id": "dc24a522",
   "metadata": {},
   "source": [
    "# GDP of Each Country WRT 80T"
   ]
  },
  {
   "cell_type": "code",
   "execution_count": null,
   "id": "c2e2f55e",
   "metadata": {},
   "outputs": [],
   "source": [
    "os.mkdir('GDP WRT World_80T')\n",
    "\n",
    "for i in df['Country Name'].unique():\n",
    "    \n",
    "    df_pr1 = df[df['Country Name'] == i]\n",
    "    \n",
    "    fig = px.line(df_pr1 , x ='Year' , y = 'Value' , title = f'{i} GDP Analysis' , range_y = [0,80000000000000])\n",
    "    pof.plot(fig , filename = 'GDP WRT World_80T/' + f'{i} GDP Analysis.html' , auto_open = False)\n",
    "    \n",
    "\n",
    "    "
   ]
  },
  {
   "cell_type": "markdown",
   "id": "49ed1591",
   "metadata": {},
   "source": [
    "# All Countries GDP GRAPH"
   ]
  },
  {
   "cell_type": "code",
   "execution_count": null,
   "id": "90222f5e",
   "metadata": {},
   "outputs": [],
   "source": [
    "fig = px.line(df , x = 'Year' , y = 'Value' , title = 'All Countries GDP GROWTH ANALYSIS' , color = 'Country Name')\n",
    "\n",
    "pof.plot(fig , filename = 'GDP Growth Chart Analysis.html')"
   ]
  },
  {
   "cell_type": "markdown",
   "id": "6bc16d6f",
   "metadata": {},
   "source": [
    "# Specific Country GDP Comparison"
   ]
  },
  {
   "cell_type": "code",
   "execution_count": 10,
   "id": "1c225077",
   "metadata": {},
   "outputs": [],
   "source": [
    "c1 = df[df['Country Name'] == 'India']\n",
    "c2 = df[df['Country Name'] == 'China']"
   ]
  },
  {
   "cell_type": "code",
   "execution_count": 11,
   "id": "82fba3cf",
   "metadata": {},
   "outputs": [],
   "source": [
    "df_pr = pd.concat([c1,c2] , axis = 0)"
   ]
  },
  {
   "cell_type": "code",
   "execution_count": 13,
   "id": "1651dd72",
   "metadata": {},
   "outputs": [
    {
     "data": {
      "text/plain": [
       "'IND _ CHN GDP Growth Analysis.html'"
      ]
     },
     "execution_count": 13,
     "metadata": {},
     "output_type": "execute_result"
    }
   ],
   "source": [
    "fig = px.line(df_pr , x = 'Year' , y = 'Value' , title = 'GDP GROWTH ANALYSIS' , color = 'Country Name')\n",
    "\n",
    "pof.plot(fig , filename = 'IND _ CHN GDP Growth Analysis.html')"
   ]
  },
  {
   "cell_type": "markdown",
   "id": "a54f0408",
   "metadata": {},
   "source": [
    "### Now make a Func for it"
   ]
  },
  {
   "cell_type": "code",
   "execution_count": 16,
   "id": "9b6de949",
   "metadata": {},
   "outputs": [],
   "source": [
    "def compare_gdp(lst, isOpen):\n",
    "    dfs = []\n",
    "    for i in lst:\n",
    "        dfs.append(df[df['Country Code'] == i])\n",
    "        \n",
    "        df_pr = pd.concat(dfs, axis = 0)\n",
    "        \n",
    "    fig = px.line(df_pr , x = 'Year' , y = 'Value' , title = 'GDP Comparison - ' + '-'.join(lst) , color = 'Country Name')\n",
    "    pof.plot(fig , filename = '-'.join(lst) + '.html' , auto_open = isOpen)\n",
    "        "
   ]
  },
  {
   "cell_type": "code",
   "execution_count": 17,
   "id": "f88c488c",
   "metadata": {},
   "outputs": [],
   "source": [
    "compare_gdp(['IND','CHN','USA','ITA'], True)"
   ]
  },
  {
   "cell_type": "markdown",
   "id": "32632af5",
   "metadata": {},
   "source": [
    "# GDP % GROWTH Process"
   ]
  },
  {
   "cell_type": "code",
   "execution_count": 22,
   "id": "a67ac5ec",
   "metadata": {},
   "outputs": [
    {
     "data": {
      "text/plain": [
       "'All Countries GDP % Growth Analysis.html'"
      ]
     },
     "execution_count": 22,
     "metadata": {},
     "output_type": "execute_result"
    }
   ],
   "source": [
    "fig = px.line(df , x = 'Year' , y = 'GDP' , title = 'GDP % GROWTH ANALYSIS' , color = 'Country Name')\n",
    "\n",
    "pof.plot(fig , filename = 'All Countries GDP % Growth Analysis.html')"
   ]
  },
  {
   "cell_type": "markdown",
   "id": "01403a1c",
   "metadata": {},
   "source": [
    "# btw 1960 - 2016"
   ]
  },
  {
   "cell_type": "code",
   "execution_count": 32,
   "id": "01ff199d",
   "metadata": {},
   "outputs": [],
   "source": [
    "dfs = [] \n",
    "for i in df['Country Name'].unique():\n",
    "    df_pr = df[df['Country Name'] == i]\n",
    "    \n",
    "    if len(df_pr) == 57:\n",
    "        dfs.append(df_pr)\n",
    "\n",
    "df_pr = pd.concat(dfs)\n",
    "\n",
    "\n",
    "fig = px.line(df , x = 'Year' , y = 'GDP' , title = 'GDP % GROWTH ANALYSIS' , color = 'Country Name')\n",
    "\n",
    "pof.plot(fig , filename = 'All Countries GDP % Growth Analysis.html')\n",
    "    "
   ]
  },
  {
   "cell_type": "code",
   "execution_count": 39,
   "id": "588c7222",
   "metadata": {},
   "outputs": [
    {
     "data": {
      "text/plain": [
       "'120 countries GDP % Growth Analysis(1960-2016).html'"
      ]
     },
     "execution_count": 39,
     "metadata": {},
     "output_type": "execute_result"
    }
   ],
   "source": [
    "fig = px.line(df_pr , x = 'Year' , y = 'GDP' , title = 'GDP % GROWTH ANALYSIS' , color = 'Country Name')\n",
    "\n",
    "pof.plot(fig , filename = '120 countries GDP % Growth Analysis(1960-2016).html')"
   ]
  },
  {
   "cell_type": "code",
   "execution_count": null,
   "id": "281a251a",
   "metadata": {},
   "outputs": [],
   "source": []
  }
 ],
 "metadata": {
  "kernelspec": {
   "display_name": "Python 3 (ipykernel)",
   "language": "python",
   "name": "python3"
  },
  "language_info": {
   "codemirror_mode": {
    "name": "ipython",
    "version": 3
   },
   "file_extension": ".py",
   "mimetype": "text/x-python",
   "name": "python",
   "nbconvert_exporter": "python",
   "pygments_lexer": "ipython3",
   "version": "3.9.13"
  }
 },
 "nbformat": 4,
 "nbformat_minor": 5
}
